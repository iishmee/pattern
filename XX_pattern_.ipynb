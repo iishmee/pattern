{
  "nbformat": 4,
  "nbformat_minor": 0,
  "metadata": {
    "colab": {
      "provenance": []
    },
    "kernelspec": {
      "name": "python3",
      "display_name": "Python 3"
    },
    "language_info": {
      "name": "python"
    }
  },
  "cells": [
    {
      "cell_type": "code",
      "execution_count": null,
      "metadata": {
        "colab": {
          "base_uri": "https://localhost:8080/"
        },
        "id": "Uu6az2LBQvMa",
        "outputId": "70933d34-460c-4251-c03b-c0ab6eac564c"
      },
      "outputs": [
        {
          "output_type": "stream",
          "name": "stdout",
          "text": [
            "*\n",
            " *\n",
            "  *\n",
            " *\n",
            "*\n",
            " *\n",
            "  *\n",
            " *\n",
            "*\n",
            " *\n",
            "  *\n",
            " *\n",
            "*\n"
          ]
        }
      ],
      "source": [
        "def pattern():\n",
        "  n=3\n",
        "  for i in range(3):\n",
        "    for j in range(n-1):\n",
        "      print(j*\" \"+\"*\")\n",
        "    for j in range(n-1,0,-1):\n",
        "      print(j*\" \"+\"*\")\n",
        "  print(\"*\")\n",
        "pattern()"
      ]
    },
    {
      "cell_type": "code",
      "source": [
        "def pattern():\n",
        "  p=3\n",
        "  n=3\n",
        "  for i in range(p):\n",
        "    for j in range(n):\n",
        "      print(j*\" \"+\"*\"+2*(n-j)*\" \"+\"*\")\n",
        "    for j in range(n,0,-1):\n",
        "      print(j*\" \"+\"*\"+2*(n-j)*\" \"+\"*\")\n",
        "\n",
        "pattern()"
      ],
      "metadata": {
        "colab": {
          "base_uri": "https://localhost:8080/"
        },
        "id": "v1XBIILdT-qO",
        "outputId": "0eb37e6a-3a83-4a1c-c806-90462c8d45b1"
      },
      "execution_count": null,
      "outputs": [
        {
          "output_type": "stream",
          "name": "stdout",
          "text": [
            "*      *\n",
            " *    *\n",
            "  *  *\n",
            "   **\n",
            "  *  *\n",
            " *    *\n",
            "*      *\n",
            " *    *\n",
            "  *  *\n",
            "   **\n",
            "  *  *\n",
            " *    *\n",
            "*      *\n",
            " *    *\n",
            "  *  *\n",
            "   **\n",
            "  *  *\n",
            " *    *\n"
          ]
        }
      ]
    },
    {
      "cell_type": "code",
      "source": [
        "def pattern():\n",
        "  p=3\n",
        "  n=3\n",
        "  for i in range(p):\n",
        "    for j in range(n):\n",
        "      print(j*\" \"+\"*\"+(2*(n-j)-1)*\" \"+\"*\")\n",
        "    for j in range(n-2,0,-1):\n",
        "      print(j*\" \"+\"*\"+(2*(n-j)-1)*\" \"+\"*\")\n",
        "\n",
        "pattern()"
      ],
      "metadata": {
        "colab": {
          "base_uri": "https://localhost:8080/"
        },
        "id": "vMR-CsQOaoUp",
        "outputId": "1e53324d-a8b2-4941-c3bb-f9c5918a3227"
      },
      "execution_count": null,
      "outputs": [
        {
          "output_type": "stream",
          "name": "stdout",
          "text": [
            "*     *\n",
            " *   *\n",
            "  * *\n",
            " *   *\n",
            "*     *\n",
            " *   *\n",
            "  * *\n",
            " *   *\n",
            "*     *\n",
            " *   *\n",
            "  * *\n",
            " *   *\n"
          ]
        }
      ]
    },
    {
      "cell_type": "code",
      "source": [
        "n=3\n",
        "for j in range(n-1,0,-1):\n",
        "      print(j*\" \"+\"*\"+2*(n-j)*\" \"+\"*\")"
      ],
      "metadata": {
        "colab": {
          "base_uri": "https://localhost:8080/"
        },
        "id": "5nUc2TQ6X_6I",
        "outputId": "2586ba38-c5bd-4281-b485-daaf20310e6b"
      },
      "execution_count": null,
      "outputs": [
        {
          "output_type": "stream",
          "name": "stdout",
          "text": [
            "  *  *\n",
            " *    *\n"
          ]
        }
      ]
    },
    {
      "cell_type": "code",
      "source": [
        "for i in range(5):\n",
        "  print(i)"
      ],
      "metadata": {
        "colab": {
          "base_uri": "https://localhost:8080/"
        },
        "id": "9wIdrmklTajk",
        "outputId": "3ef1bcc0-975b-41c8-8f17-4d08f6618630"
      },
      "execution_count": null,
      "outputs": [
        {
          "output_type": "stream",
          "name": "stdout",
          "text": [
            "0\n",
            "1\n",
            "2\n",
            "3\n",
            "4\n"
          ]
        }
      ]
    }
  ]
}